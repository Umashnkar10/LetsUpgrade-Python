{
 "cells": [
  {
   "cell_type": "markdown",
   "metadata": {},
   "source": [
    "# Question 1\n",
    "You all are Pilots, you want to land a plane safely, so altitude required for landing a plane is 1000ft, it it is less than tell pilot to land the plane, or it is more than that but less than 5000ft ask the pilot to “come down to 1000ft”, else if it more than 5000ft ask the pilot to “go around and try later”"
   ]
  },
  {
   "cell_type": "code",
   "execution_count": 7,
   "metadata": {},
   "outputs": [
    {
     "name": "stdout",
     "output_type": "stream",
     "text": [
      "Enter the altitude of the Plane to land safely:5001\n",
      "Turn Around\n"
     ]
    }
   ],
   "source": [
    "userInput = int(input(\"Enter the altitude of the Plane to land safely:\"))\n",
    "if  userInput <= 1000:\n",
    "    print(\"Safe to Land\")\n",
    "elif userInput >1000 and userInput<=5000:\n",
    "    print(\"Bring down to 1000\")\n",
    "else:\n",
    "    print(\"Turn Around\")"
   ]
  },
  {
   "cell_type": "markdown",
   "metadata": {},
   "source": [
    "# Question 2\n",
    "\n",
    "Using for loop please print all the prime numbers between 1- 200 using FOR LOOP AND RANGE\n",
    "function."
   ]
  },
  {
   "cell_type": "code",
   "execution_count": 12,
   "metadata": {},
   "outputs": [
    {
     "name": "stdout",
     "output_type": "stream",
     "text": [
      "Prime Number:2\n",
      "Prime Number:3\n",
      "Prime Number:5\n",
      "Prime Number:7\n",
      "Prime Number:11\n",
      "Prime Number:13\n",
      "Prime Number:17\n",
      "Prime Number:19\n",
      "Prime Number:23\n",
      "Prime Number:29\n",
      "Prime Number:31\n",
      "Prime Number:37\n",
      "Prime Number:41\n",
      "Prime Number:43\n",
      "Prime Number:47\n",
      "Prime Number:53\n",
      "Prime Number:59\n",
      "Prime Number:61\n",
      "Prime Number:67\n",
      "Prime Number:71\n",
      "Prime Number:73\n",
      "Prime Number:79\n",
      "Prime Number:83\n",
      "Prime Number:89\n",
      "Prime Number:97\n",
      "Prime Number:101\n",
      "Prime Number:103\n",
      "Prime Number:107\n",
      "Prime Number:109\n",
      "Prime Number:113\n",
      "Prime Number:127\n",
      "Prime Number:131\n",
      "Prime Number:137\n",
      "Prime Number:139\n",
      "Prime Number:149\n",
      "Prime Number:151\n",
      "Prime Number:157\n",
      "Prime Number:163\n",
      "Prime Number:167\n",
      "Prime Number:173\n",
      "Prime Number:179\n",
      "Prime Number:181\n",
      "Prime Number:191\n",
      "Prime Number:193\n",
      "Prime Number:197\n",
      "Prime Number:199\n"
     ]
    }
   ],
   "source": [
    "for number in range(1,201):\n",
    "    if number > 1:\n",
    "        for i in range(2,number):\n",
    "            if number%i == 0:\n",
    "                break\n",
    "        else:\n",
    "            print(\"Prime Number:%d\"%number)"
   ]
  }
 ],
 "metadata": {
  "kernelspec": {
   "display_name": "Python 3",
   "language": "python",
   "name": "python3"
  },
  "language_info": {
   "codemirror_mode": {
    "name": "ipython",
    "version": 3
   },
   "file_extension": ".py",
   "mimetype": "text/x-python",
   "name": "python",
   "nbconvert_exporter": "python",
   "pygments_lexer": "ipython3",
   "version": "3.7.9"
  }
 },
 "nbformat": 4,
 "nbformat_minor": 4
}
