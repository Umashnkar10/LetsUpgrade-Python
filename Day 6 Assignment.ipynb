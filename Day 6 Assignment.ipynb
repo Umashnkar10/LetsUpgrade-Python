{
 "cells": [
  {
   "cell_type": "code",
   "execution_count": 1,
   "metadata": {},
   "outputs": [],
   "source": [
    "# Create a bank account class that has two attributes\n",
    "class bank:\n",
    "    def __init__(self,ownername,balance):\n",
    "        self.ownername = ownername\n",
    "        self.balance = balance\n",
    "\n",
    "    def deposit(self,amount):\n",
    "        self.balance +=amount\n",
    "        print(\"your updated balance is :\", self.balance)\n",
    "        \n",
    "    def withdraw(self,amount):\n",
    "        if(self.balance>amount):\n",
    "            self.balance-=amount\n",
    "            print(\"your updated balance is :\", self.balance)\n",
    "        else:\n",
    "            print(\"you don't have enough credit in your account, see you have only\",self.balance)"
   ]
  },
  {
   "cell_type": "code",
   "execution_count": 2,
   "metadata": {},
   "outputs": [
    {
     "name": "stdout",
     "output_type": "stream",
     "text": [
      "your updated balance is : 50000\n",
      "your updated balance is : 5000\n",
      "you don't have enough credit in your account, see you have only 5000\n"
     ]
    }
   ],
   "source": [
    "person = bank(\"Person\",45000)\n",
    "person.deposit(5000)\n",
    "person.withdraw(45000)\n",
    "person.withdraw(15000)"
   ]
  },
  {
   "cell_type": "markdown",
   "metadata": {},
   "source": [
    "## For this challenge,create a cone class that has two attributes:\n",
    "R=Radiush=Height And two methods: Volume = Π r2 = (h/3) Surface area : base : Π r2 , side : Π r √(r2 + h2) Make only one class with functions,as in where required import Math."
   ]
  },
  {
   "cell_type": "code",
   "execution_count": 3,
   "metadata": {},
   "outputs": [],
   "source": [
    "import math\n",
    "class cone:\n",
    "    def __init__(self,radius,height):\n",
    "        self.radius=radius\n",
    "        self.height=height\n",
    "        \n",
    "    def volume(self):\n",
    "        vol = math.pi * (self.radius**2) * (self.height/3)\n",
    "        print(\"Volume of this cone is : \",vol)\n",
    "        \n",
    "    def surfaceArea(self):\n",
    "        area = math.pi* self.radius *(self.radius+(math.sqrt((self.radius**2)+(self.height**2))))\n",
    "        print(\"Surface area of this cone is \",area)"
   ]
  },
  {
   "cell_type": "code",
   "execution_count": 4,
   "metadata": {},
   "outputs": [],
   "source": [
    "con = cone(5,6)"
   ]
  },
  {
   "cell_type": "code",
   "execution_count": 5,
   "metadata": {},
   "outputs": [
    {
     "name": "stdout",
     "output_type": "stream",
     "text": [
      "Volume of this cone is :  157.07963267948966\n"
     ]
    }
   ],
   "source": [
    "con.volume()"
   ]
  },
  {
   "cell_type": "code",
   "execution_count": 6,
   "metadata": {},
   "outputs": [
    {
     "name": "stdout",
     "output_type": "stream",
     "text": [
      "Surface area of this cone is  201.22293136239685\n"
     ]
    }
   ],
   "source": [
    "con.surfaceArea()"
   ]
  },
  {
   "cell_type": "code",
   "execution_count": null,
   "metadata": {},
   "outputs": [],
   "source": []
  }
 ],
 "metadata": {
  "kernelspec": {
   "display_name": "Python 3",
   "language": "python",
   "name": "python3"
  },
  "language_info": {
   "codemirror_mode": {
    "name": "ipython",
    "version": 3
   },
   "file_extension": ".py",
   "mimetype": "text/x-python",
   "name": "python",
   "nbconvert_exporter": "python",
   "pygments_lexer": "ipython3",
   "version": "3.7.9"
  }
 },
 "nbformat": 4,
 "nbformat_minor": 4
}
